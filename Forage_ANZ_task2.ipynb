{
 "cells": [
  {
   "cell_type": "code",
   "execution_count": 1,
   "id": "78860efa",
   "metadata": {},
   "outputs": [],
   "source": [
    "# Data wrangling \n",
    "import pandas as pd\n",
    "import numpy as np\n",
    "import seaborn as sns\n",
    "import matplotlib.pyplot as plt\n",
    "from statistics import mode\n",
    "\n",
    "# Machine learning\n",
    "from sklearn.model_selection import train_test_split\n",
    "from sklearn.preprocessing import OneHotEncoder, StandardScaler\n",
    "from sklearn.linear_model import LinearRegression\n",
    "from sklearn.tree import DecisionTreeRegressor\n",
    "from sklearn.compose import make_column_transformer\n",
    "from sklearn.pipeline import make_pipeline\n",
    "from sklearn.metrics import mean_squared_error"
   ]
  },
  {
   "cell_type": "markdown",
   "id": "35ea053d",
   "metadata": {},
   "source": [
    "## Loading Data "
   ]
  },
  {
   "cell_type": "code",
   "execution_count": 2,
   "id": "aa5b36f6",
   "metadata": {},
   "outputs": [
    {
     "data": {
      "text/html": [
       "<div>\n",
       "<style scoped>\n",
       "    .dataframe tbody tr th:only-of-type {\n",
       "        vertical-align: middle;\n",
       "    }\n",
       "\n",
       "    .dataframe tbody tr th {\n",
       "        vertical-align: top;\n",
       "    }\n",
       "\n",
       "    .dataframe thead th {\n",
       "        text-align: right;\n",
       "    }\n",
       "</style>\n",
       "<table border=\"1\" class=\"dataframe\">\n",
       "  <thead>\n",
       "    <tr style=\"text-align: right;\">\n",
       "      <th></th>\n",
       "      <th>status</th>\n",
       "      <th>card_present_flag</th>\n",
       "      <th>account</th>\n",
       "      <th>long_lat</th>\n",
       "      <th>txn_description</th>\n",
       "      <th>merchant_id</th>\n",
       "      <th>first_name</th>\n",
       "      <th>balance</th>\n",
       "      <th>date</th>\n",
       "      <th>gender</th>\n",
       "      <th>...</th>\n",
       "      <th>extraction</th>\n",
       "      <th>amount</th>\n",
       "      <th>transaction_id</th>\n",
       "      <th>customer_id</th>\n",
       "      <th>merchant_long_lat</th>\n",
       "      <th>movement</th>\n",
       "      <th>month</th>\n",
       "      <th>dayofweek</th>\n",
       "      <th>hour</th>\n",
       "      <th>category</th>\n",
       "    </tr>\n",
       "  </thead>\n",
       "  <tbody>\n",
       "    <tr>\n",
       "      <th>0</th>\n",
       "      <td>authorized</td>\n",
       "      <td>1.0</td>\n",
       "      <td>ACC-1598451071</td>\n",
       "      <td>153.41 -27.95</td>\n",
       "      <td>POS</td>\n",
       "      <td>81c48296-73be-44a7-befa-d053f48ce7cd</td>\n",
       "      <td>Diana</td>\n",
       "      <td>35.39</td>\n",
       "      <td>2018-08-01</td>\n",
       "      <td>F</td>\n",
       "      <td>...</td>\n",
       "      <td>01:01:15</td>\n",
       "      <td>16.25</td>\n",
       "      <td>a623070bfead4541a6b0fff8a09e706c</td>\n",
       "      <td>CUS-2487424745</td>\n",
       "      <td>153.38 -27.99</td>\n",
       "      <td>debit</td>\n",
       "      <td>8</td>\n",
       "      <td>2</td>\n",
       "      <td>1</td>\n",
       "      <td>Purchase</td>\n",
       "    </tr>\n",
       "    <tr>\n",
       "      <th>1</th>\n",
       "      <td>authorized</td>\n",
       "      <td>0.0</td>\n",
       "      <td>ACC-1598451071</td>\n",
       "      <td>153.41 -27.95</td>\n",
       "      <td>SALES-POS</td>\n",
       "      <td>830a451c-316e-4a6a-bf25-e37caedca49e</td>\n",
       "      <td>Diana</td>\n",
       "      <td>21.20</td>\n",
       "      <td>2018-08-01</td>\n",
       "      <td>F</td>\n",
       "      <td>...</td>\n",
       "      <td>01:13:45</td>\n",
       "      <td>14.19</td>\n",
       "      <td>13270a2a902145da9db4c951e04b51b9</td>\n",
       "      <td>CUS-2487424745</td>\n",
       "      <td>151.21 -33.87</td>\n",
       "      <td>debit</td>\n",
       "      <td>8</td>\n",
       "      <td>2</td>\n",
       "      <td>1</td>\n",
       "      <td>Purchase</td>\n",
       "    </tr>\n",
       "    <tr>\n",
       "      <th>2</th>\n",
       "      <td>authorized</td>\n",
       "      <td>1.0</td>\n",
       "      <td>ACC-1222300524</td>\n",
       "      <td>151.23 -33.94</td>\n",
       "      <td>POS</td>\n",
       "      <td>835c231d-8cdf-4e96-859d-e9d571760cf0</td>\n",
       "      <td>Michael</td>\n",
       "      <td>5.71</td>\n",
       "      <td>2018-08-01</td>\n",
       "      <td>M</td>\n",
       "      <td>...</td>\n",
       "      <td>01:26:15</td>\n",
       "      <td>6.42</td>\n",
       "      <td>feb79e7ecd7048a5a36ec889d1a94270</td>\n",
       "      <td>CUS-2142601169</td>\n",
       "      <td>151.21 -33.87</td>\n",
       "      <td>debit</td>\n",
       "      <td>8</td>\n",
       "      <td>2</td>\n",
       "      <td>1</td>\n",
       "      <td>Purchase</td>\n",
       "    </tr>\n",
       "    <tr>\n",
       "      <th>3</th>\n",
       "      <td>authorized</td>\n",
       "      <td>1.0</td>\n",
       "      <td>ACC-1037050564</td>\n",
       "      <td>153.10 -27.66</td>\n",
       "      <td>SALES-POS</td>\n",
       "      <td>48514682-c78a-4a88-b0da-2d6302e64673</td>\n",
       "      <td>Rhonda</td>\n",
       "      <td>2117.22</td>\n",
       "      <td>2018-08-01</td>\n",
       "      <td>F</td>\n",
       "      <td>...</td>\n",
       "      <td>01:38:45</td>\n",
       "      <td>40.90</td>\n",
       "      <td>2698170da3704fd981b15e64a006079e</td>\n",
       "      <td>CUS-1614226872</td>\n",
       "      <td>153.05 -26.68</td>\n",
       "      <td>debit</td>\n",
       "      <td>8</td>\n",
       "      <td>2</td>\n",
       "      <td>1</td>\n",
       "      <td>Purchase</td>\n",
       "    </tr>\n",
       "    <tr>\n",
       "      <th>4</th>\n",
       "      <td>authorized</td>\n",
       "      <td>1.0</td>\n",
       "      <td>ACC-1598451071</td>\n",
       "      <td>153.41 -27.95</td>\n",
       "      <td>SALES-POS</td>\n",
       "      <td>b4e02c10-0852-4273-b8fd-7b3395e32eb0</td>\n",
       "      <td>Diana</td>\n",
       "      <td>17.95</td>\n",
       "      <td>2018-08-01</td>\n",
       "      <td>F</td>\n",
       "      <td>...</td>\n",
       "      <td>01:51:15</td>\n",
       "      <td>3.25</td>\n",
       "      <td>329adf79878c4cf0aeb4188b4691c266</td>\n",
       "      <td>CUS-2487424745</td>\n",
       "      <td>153.44 -28.06</td>\n",
       "      <td>debit</td>\n",
       "      <td>8</td>\n",
       "      <td>2</td>\n",
       "      <td>1</td>\n",
       "      <td>Purchase</td>\n",
       "    </tr>\n",
       "  </tbody>\n",
       "</table>\n",
       "<p>5 rows × 23 columns</p>\n",
       "</div>"
      ],
      "text/plain": [
       "       status card_present_flag         account       long_lat  \\\n",
       "0  authorized               1.0  ACC-1598451071  153.41 -27.95   \n",
       "1  authorized               0.0  ACC-1598451071  153.41 -27.95   \n",
       "2  authorized               1.0  ACC-1222300524  151.23 -33.94   \n",
       "3  authorized               1.0  ACC-1037050564  153.10 -27.66   \n",
       "4  authorized               1.0  ACC-1598451071  153.41 -27.95   \n",
       "\n",
       "  txn_description                           merchant_id first_name  balance  \\\n",
       "0             POS  81c48296-73be-44a7-befa-d053f48ce7cd      Diana    35.39   \n",
       "1       SALES-POS  830a451c-316e-4a6a-bf25-e37caedca49e      Diana    21.20   \n",
       "2             POS  835c231d-8cdf-4e96-859d-e9d571760cf0    Michael     5.71   \n",
       "3       SALES-POS  48514682-c78a-4a88-b0da-2d6302e64673     Rhonda  2117.22   \n",
       "4       SALES-POS  b4e02c10-0852-4273-b8fd-7b3395e32eb0      Diana    17.95   \n",
       "\n",
       "        date gender  ...  extraction amount                    transaction_id  \\\n",
       "0 2018-08-01      F  ...    01:01:15  16.25  a623070bfead4541a6b0fff8a09e706c   \n",
       "1 2018-08-01      F  ...    01:13:45  14.19  13270a2a902145da9db4c951e04b51b9   \n",
       "2 2018-08-01      M  ...    01:26:15   6.42  feb79e7ecd7048a5a36ec889d1a94270   \n",
       "3 2018-08-01      F  ...    01:38:45  40.90  2698170da3704fd981b15e64a006079e   \n",
       "4 2018-08-01      F  ...    01:51:15   3.25  329adf79878c4cf0aeb4188b4691c266   \n",
       "\n",
       "      customer_id  merchant_long_lat movement month dayofweek hour  category  \n",
       "0  CUS-2487424745      153.38 -27.99    debit     8         2    1  Purchase  \n",
       "1  CUS-2487424745      151.21 -33.87    debit     8         2    1  Purchase  \n",
       "2  CUS-2142601169      151.21 -33.87    debit     8         2    1  Purchase  \n",
       "3  CUS-1614226872      153.05 -26.68    debit     8         2    1  Purchase  \n",
       "4  CUS-2487424745      153.44 -28.06    debit     8         2    1  Purchase  \n",
       "\n",
       "[5 rows x 23 columns]"
      ]
     },
     "execution_count": 2,
     "metadata": {},
     "output_type": "execute_result"
    }
   ],
   "source": [
    "df = pd.read_pickle(\"data.pkl\")\n",
    "df.head()"
   ]
  },
  {
   "cell_type": "code",
   "execution_count": 3,
   "id": "435a48fe",
   "metadata": {
    "scrolled": true
   },
   "outputs": [
    {
     "data": {
      "text/html": [
       "<div>\n",
       "<style scoped>\n",
       "    .dataframe tbody tr th:only-of-type {\n",
       "        vertical-align: middle;\n",
       "    }\n",
       "\n",
       "    .dataframe tbody tr th {\n",
       "        vertical-align: top;\n",
       "    }\n",
       "\n",
       "    .dataframe thead th {\n",
       "        text-align: right;\n",
       "    }\n",
       "</style>\n",
       "<table border=\"1\" class=\"dataframe\">\n",
       "  <thead>\n",
       "    <tr style=\"text-align: right;\">\n",
       "      <th></th>\n",
       "      <th>Columns</th>\n",
       "    </tr>\n",
       "  </thead>\n",
       "  <tbody>\n",
       "    <tr>\n",
       "      <th>0</th>\n",
       "      <td>status</td>\n",
       "    </tr>\n",
       "    <tr>\n",
       "      <th>1</th>\n",
       "      <td>card_present_flag</td>\n",
       "    </tr>\n",
       "    <tr>\n",
       "      <th>2</th>\n",
       "      <td>account</td>\n",
       "    </tr>\n",
       "    <tr>\n",
       "      <th>3</th>\n",
       "      <td>long_lat</td>\n",
       "    </tr>\n",
       "    <tr>\n",
       "      <th>4</th>\n",
       "      <td>txn_description</td>\n",
       "    </tr>\n",
       "    <tr>\n",
       "      <th>5</th>\n",
       "      <td>merchant_id</td>\n",
       "    </tr>\n",
       "    <tr>\n",
       "      <th>6</th>\n",
       "      <td>first_name</td>\n",
       "    </tr>\n",
       "    <tr>\n",
       "      <th>7</th>\n",
       "      <td>balance</td>\n",
       "    </tr>\n",
       "    <tr>\n",
       "      <th>8</th>\n",
       "      <td>date</td>\n",
       "    </tr>\n",
       "    <tr>\n",
       "      <th>9</th>\n",
       "      <td>gender</td>\n",
       "    </tr>\n",
       "    <tr>\n",
       "      <th>10</th>\n",
       "      <td>age</td>\n",
       "    </tr>\n",
       "    <tr>\n",
       "      <th>11</th>\n",
       "      <td>merchant_suburb</td>\n",
       "    </tr>\n",
       "    <tr>\n",
       "      <th>12</th>\n",
       "      <td>merchant_state</td>\n",
       "    </tr>\n",
       "    <tr>\n",
       "      <th>13</th>\n",
       "      <td>extraction</td>\n",
       "    </tr>\n",
       "    <tr>\n",
       "      <th>14</th>\n",
       "      <td>amount</td>\n",
       "    </tr>\n",
       "    <tr>\n",
       "      <th>15</th>\n",
       "      <td>transaction_id</td>\n",
       "    </tr>\n",
       "    <tr>\n",
       "      <th>16</th>\n",
       "      <td>customer_id</td>\n",
       "    </tr>\n",
       "    <tr>\n",
       "      <th>17</th>\n",
       "      <td>merchant_long_lat</td>\n",
       "    </tr>\n",
       "    <tr>\n",
       "      <th>18</th>\n",
       "      <td>movement</td>\n",
       "    </tr>\n",
       "    <tr>\n",
       "      <th>19</th>\n",
       "      <td>month</td>\n",
       "    </tr>\n",
       "    <tr>\n",
       "      <th>20</th>\n",
       "      <td>dayofweek</td>\n",
       "    </tr>\n",
       "    <tr>\n",
       "      <th>21</th>\n",
       "      <td>hour</td>\n",
       "    </tr>\n",
       "    <tr>\n",
       "      <th>22</th>\n",
       "      <td>category</td>\n",
       "    </tr>\n",
       "  </tbody>\n",
       "</table>\n",
       "</div>"
      ],
      "text/plain": [
       "              Columns\n",
       "0              status\n",
       "1   card_present_flag\n",
       "2             account\n",
       "3            long_lat\n",
       "4     txn_description\n",
       "5         merchant_id\n",
       "6          first_name\n",
       "7             balance\n",
       "8                date\n",
       "9              gender\n",
       "10                age\n",
       "11    merchant_suburb\n",
       "12     merchant_state\n",
       "13         extraction\n",
       "14             amount\n",
       "15     transaction_id\n",
       "16        customer_id\n",
       "17  merchant_long_lat\n",
       "18           movement\n",
       "19              month\n",
       "20          dayofweek\n",
       "21               hour\n",
       "22           category"
      ]
     },
     "execution_count": 3,
     "metadata": {},
     "output_type": "execute_result"
    }
   ],
   "source": [
    "# Dataframe columns \n",
    "pd.DataFrame({\"Columns\": df.columns})"
   ]
  },
  {
   "cell_type": "markdown",
   "id": "a78f1fe1",
   "metadata": {},
   "source": [
    "In order to model annual salary, we first need to compute the annual salary for each customer as well as create features that can help us predict those salaries."
   ]
  },
  {
   "cell_type": "markdown",
   "id": "2d44325b",
   "metadata": {},
   "source": [
    "### 1.1 Target variable (customers' annual salary)\n",
    "A target variable, or sometimes called a response variable, is the variable that we are trying to predict and in our case, this is the annual salary for each customer."
   ]
  },
  {
   "cell_type": "code",
   "execution_count": 4,
   "id": "f2474995",
   "metadata": {},
   "outputs": [
    {
     "data": {
      "text/html": [
       "<div>\n",
       "<style scoped>\n",
       "    .dataframe tbody tr th:only-of-type {\n",
       "        vertical-align: middle;\n",
       "    }\n",
       "\n",
       "    .dataframe tbody tr th {\n",
       "        vertical-align: top;\n",
       "    }\n",
       "\n",
       "    .dataframe thead th {\n",
       "        text-align: right;\n",
       "    }\n",
       "</style>\n",
       "<table border=\"1\" class=\"dataframe\">\n",
       "  <thead>\n",
       "    <tr style=\"text-align: right;\">\n",
       "      <th></th>\n",
       "      <th>customer_id</th>\n",
       "    </tr>\n",
       "  </thead>\n",
       "  <tbody>\n",
       "    <tr>\n",
       "      <th>0</th>\n",
       "      <td>CUS-2487424745</td>\n",
       "    </tr>\n",
       "    <tr>\n",
       "      <th>1</th>\n",
       "      <td>CUS-2142601169</td>\n",
       "    </tr>\n",
       "    <tr>\n",
       "      <th>2</th>\n",
       "      <td>CUS-1614226872</td>\n",
       "    </tr>\n",
       "    <tr>\n",
       "      <th>3</th>\n",
       "      <td>CUS-2688605418</td>\n",
       "    </tr>\n",
       "    <tr>\n",
       "      <th>4</th>\n",
       "      <td>CUS-4123612273</td>\n",
       "    </tr>\n",
       "  </tbody>\n",
       "</table>\n",
       "</div>"
      ],
      "text/plain": [
       "      customer_id\n",
       "0  CUS-2487424745\n",
       "1  CUS-2142601169\n",
       "2  CUS-1614226872\n",
       "3  CUS-2688605418\n",
       "4  CUS-4123612273"
      ]
     },
     "execution_count": 4,
     "metadata": {},
     "output_type": "execute_result"
    }
   ],
   "source": [
    "# Check the salary payment frequency of each customer\n",
    "# creating a dataframe consisting of all the customer salaries\n",
    "salary_df = pd.DataFrame({\"customer_id\": df['customer_id'].unique()})\n",
    "salary_df.head()"
   ]
  },
  {
   "cell_type": "code",
   "execution_count": 5,
   "id": "277797ef",
   "metadata": {},
   "outputs": [
    {
     "data": {
      "text/html": [
       "<div>\n",
       "<style scoped>\n",
       "    .dataframe tbody tr th:only-of-type {\n",
       "        vertical-align: middle;\n",
       "    }\n",
       "\n",
       "    .dataframe tbody tr th {\n",
       "        vertical-align: top;\n",
       "    }\n",
       "\n",
       "    .dataframe thead th {\n",
       "        text-align: right;\n",
       "    }\n",
       "</style>\n",
       "<table border=\"1\" class=\"dataframe\">\n",
       "  <thead>\n",
       "    <tr style=\"text-align: right;\">\n",
       "      <th></th>\n",
       "      <th>customer_id</th>\n",
       "      <th>salary_freq</th>\n",
       "      <th>salary_amount</th>\n",
       "      <th>annual_salary</th>\n",
       "    </tr>\n",
       "  </thead>\n",
       "  <tbody>\n",
       "    <tr>\n",
       "      <th>0</th>\n",
       "      <td>CUS-2487424745</td>\n",
       "      <td>7</td>\n",
       "      <td>1013.67</td>\n",
       "      <td>52891.852500</td>\n",
       "    </tr>\n",
       "    <tr>\n",
       "      <th>1</th>\n",
       "      <td>CUS-2142601169</td>\n",
       "      <td>7</td>\n",
       "      <td>1002.13</td>\n",
       "      <td>52289.711786</td>\n",
       "    </tr>\n",
       "    <tr>\n",
       "      <th>2</th>\n",
       "      <td>CUS-1614226872</td>\n",
       "      <td>7</td>\n",
       "      <td>892.09</td>\n",
       "      <td>46547.981786</td>\n",
       "    </tr>\n",
       "    <tr>\n",
       "      <th>3</th>\n",
       "      <td>CUS-2688605418</td>\n",
       "      <td>14</td>\n",
       "      <td>2320.30</td>\n",
       "      <td>60534.969643</td>\n",
       "    </tr>\n",
       "    <tr>\n",
       "      <th>4</th>\n",
       "      <td>CUS-4123612273</td>\n",
       "      <td>7</td>\n",
       "      <td>1068.04</td>\n",
       "      <td>55728.801429</td>\n",
       "    </tr>\n",
       "  </tbody>\n",
       "</table>\n",
       "</div>"
      ],
      "text/plain": [
       "      customer_id  salary_freq  salary_amount  annual_salary\n",
       "0  CUS-2487424745            7        1013.67   52891.852500\n",
       "1  CUS-2142601169            7        1002.13   52289.711786\n",
       "2  CUS-1614226872            7         892.09   46547.981786\n",
       "3  CUS-2688605418           14        2320.30   60534.969643\n",
       "4  CUS-4123612273            7        1068.04   55728.801429"
      ]
     },
     "execution_count": 5,
     "metadata": {},
     "output_type": "execute_result"
    }
   ],
   "source": [
    "# Loop through all salary payments for each customer\n",
    "# Assume the salary level is constant for each customer over the observed period\n",
    "df_freq = []\n",
    "df_amount = []\n",
    "\n",
    "for customer in range(len(salary_df)):\n",
    "    salary = df.loc[(df['customer_id'] == salary_df.customer_id[customer]) & (df['txn_description'] == \"PAY/SALARY\"), \n",
    "                      [\"date\", \"amount\"]].groupby(\"date\", as_index = False).sum()\n",
    "    count = len(salary)\n",
    "    if count == 0:\n",
    "        df_amount.append(np.nan)\n",
    "        df_freq.append(np.nan)\n",
    "    else:\n",
    "        days_between_payments = []\n",
    "        for date in range(len(salary)-1):\n",
    "            days_between_payments.append((salary.date[date + 1] - salary.date[date]).days)\n",
    "        df_freq.append(max(days_between_payments))\n",
    "        df_amount.append(mode(salary.amount))\n",
    "\n",
    "salary_df[\"salary_freq\"] = df_freq\n",
    "salary_df[\"salary_amount\"] = df_amount       \n",
    "salary_df[\"annual_salary\"] = salary_df[\"salary_amount\"] / salary_df[\"salary_freq\"] * 365.25\n",
    "salary_df.head()"
   ]
  },
  {
   "cell_type": "markdown",
   "id": "9b4e66b1",
   "metadata": {},
   "source": [
    "There were multiple mode values for days_between_payments, so I decided to take the maximum."
   ]
  },
  {
   "cell_type": "code",
   "execution_count": 6,
   "id": "8b34d1eb",
   "metadata": {},
   "outputs": [
    {
     "name": "stderr",
     "output_type": "stream",
     "text": [
      "/Users/Momitha_1/opt/anaconda3/lib/python3.8/site-packages/seaborn/distributions.py:2557: FutureWarning: `distplot` is a deprecated function and will be removed in a future version. Please adapt your code to use either `displot` (a figure-level function with similar flexibility) or `histplot` (an axes-level function for histograms).\n",
      "  warnings.warn(msg, FutureWarning)\n"
     ]
    },
    {
     "data": {
      "text/plain": [
       "Text(0.5, 0, 'Annual salary')"
      ]
     },
     "execution_count": 6,
     "metadata": {},
     "output_type": "execute_result"
    },
    {
     "data": {
      "image/png": "[encoded data removed]",
      "text/plain": [
       "<Figure size 720x360 with 1 Axes>"
      ]
     },
     "metadata": {},
     "output_type": "display_data"
    }
   ],
   "source": [
    "sns.set_theme(); \n",
    "np.random.seed(0)\n",
    "plt.figure(figsize = (10, 5))\n",
    "x = sns.distplot(salary_df.annual_salary)\n",
    "plt.title(\"Distribution of customers' annual salary\")\n",
    "plt.xlabel(\"Annual salary\")"
   ]
  },
  {
   "cell_type": "markdown",
   "id": "0de5dde8",
   "metadata": {},
   "source": [
    "### 2.2 Predictor variables\n",
    "Predictor variables or features are variables that will help us predict the salaries for each customer.\n",
    "\n",
    "In this section, we will create the following features each customer:\n",
    "\n",
    "* Average number of weekly transactions\n",
    "* Maximum transaction amount\n",
    "* Number of large transactions (over $100)\n",
    "* Number of days with transactions\n",
    "* Average transaction amount\n",
    "* Median balance\n",
    "* State of residence"
   ]
  },
  {
   "cell_type": "code",
   "execution_count": 7,
   "id": "94456ff4",
   "metadata": {},
   "outputs": [
    {
     "data": {
      "text/plain": [
       "100"
      ]
     },
     "execution_count": 7,
     "metadata": {},
     "output_type": "execute_result"
    }
   ],
   "source": [
    "unique_id = df['customer_id'].unique()\n",
    "len(unique_id)"
   ]
  },
  {
   "cell_type": "code",
   "execution_count": 8,
   "id": "f44361e0",
   "metadata": {},
   "outputs": [
    {
     "data": {
      "text/plain": [
       "array(['CUS-2487424745', 'CUS-2142601169', 'CUS-1614226872',\n",
       "       'CUS-2688605418', 'CUS-4123612273'], dtype=object)"
      ]
     },
     "execution_count": 8,
     "metadata": {},
     "output_type": "execute_result"
    }
   ],
   "source": [
    "unique_id[:5]"
   ]
  },
  {
   "cell_type": "markdown",
   "id": "ffe9fdca",
   "metadata": {},
   "source": [
    "### 2.2.1 Average number of weekly transactions"
   ]
  },
  {
   "cell_type": "code",
   "execution_count": 9,
   "id": "dac9f923",
   "metadata": {},
   "outputs": [
    {
     "data": {
      "text/plain": [
       "[48, 29, 24, 14, 21]"
      ]
     },
     "execution_count": 9,
     "metadata": {},
     "output_type": "execute_result"
    }
   ],
   "source": [
    "avg_no_weekly_trans = []\n",
    "for id_ in unique_id:\n",
    "    array = df.loc[df['customer_id'] == id_, \"date\"]\n",
    "    avg_no_weekly_trans.append(round(len(array)/array.nunique()*7))\n",
    "avg_no_weekly_trans[:5]"
   ]
  },
  {
   "cell_type": "markdown",
   "id": "81e604c7",
   "metadata": {},
   "source": [
    "### 2.2.2 Average number of weekly transactions"
   ]
  },
  {
   "cell_type": "code",
   "execution_count": 10,
   "id": "746dbe1c",
   "metadata": {},
   "outputs": [
    {
     "data": {
      "text/plain": [
       "[1452.21, 2349.55, 892.09, 2320.3, 1068.04]"
      ]
     },
     "execution_count": 10,
     "metadata": {},
     "output_type": "execute_result"
    }
   ],
   "source": [
    "max_amount = []\n",
    "for id_ in unique_id:\n",
    "    array = df.loc[df['customer_id'] == id_, \"amount\"]\n",
    "    max_amount.append(max(array))\n",
    "max_amount[:5]"
   ]
  },
  {
   "cell_type": "markdown",
   "id": "9cf55bb5",
   "metadata": {},
   "source": [
    "### 2.2.3 Number of large transactions"
   ]
  },
  {
   "cell_type": "code",
   "execution_count": 11,
   "id": "282c93bb",
   "metadata": {},
   "outputs": [
    {
     "data": {
      "text/plain": [
       "[22, 23, 22, 25, 32]"
      ]
     },
     "execution_count": 11,
     "metadata": {},
     "output_type": "execute_result"
    }
   ],
   "source": [
    "no_large_trans = []\n",
    "for id_ in unique_id:\n",
    "    count = 0\n",
    "    array = df.loc[df['customer_id'] == id_, \"amount\"]\n",
    "    for amount in array:\n",
    "        if amount > 100:\n",
    "            count += 1\n",
    "    no_large_trans.append(count)\n",
    "no_large_trans[:5]"
   ]
  },
  {
   "cell_type": "markdown",
   "id": "c92737c9",
   "metadata": {},
   "source": [
    "### 2.2.4 Number of days with transactions"
   ]
  },
  {
   "cell_type": "code",
   "execution_count": 12,
   "id": "1a38f693",
   "metadata": {},
   "outputs": [
    {
     "data": {
      "text/plain": [
       "[85, 74, 76, 63, 44]"
      ]
     },
     "execution_count": 12,
     "metadata": {},
     "output_type": "execute_result"
    }
   ],
   "source": [
    "no_days_with_trans = []\n",
    "for id_ in unique_id:\n",
    "    array = df.loc[df['customer_id'] == id_, \"date\"]\n",
    "    no_days_with_trans.append(array.nunique())\n",
    "no_days_with_trans[:5]"
   ]
  },
  {
   "cell_type": "markdown",
   "id": "f0e03fdf",
   "metadata": {},
   "source": [
    "### 2.2.5 Average transaction amount"
   ]
  },
  {
   "cell_type": "code",
   "execution_count": 13,
   "id": "f41c81a7",
   "metadata": {
    "scrolled": true
   },
   "outputs": [
    {
     "data": {
      "text/plain": [
       "[45.34877162629756,\n",
       " 78.20610561056101,\n",
       " 74.46501930501928,\n",
       " 159.3041860465116,\n",
       " 166.50835820895517]"
      ]
     },
     "execution_count": 13,
     "metadata": {},
     "output_type": "execute_result"
    }
   ],
   "source": [
    "avg_trans_amount = []\n",
    "for id_ in unique_id:\n",
    "    array = df.loc[df['customer_id'] == id_, \"amount\"]\n",
    "    avg_trans_amount.append(array.mean())\n",
    "avg_trans_amount[:5]"
   ]
  },
  {
   "cell_type": "markdown",
   "id": "16376ac5",
   "metadata": {},
   "source": [
    "### 2.2.6 Median balance"
   ]
  },
  {
   "cell_type": "code",
   "execution_count": 14,
   "id": "1f8b9beb",
   "metadata": {},
   "outputs": [
    {
     "data": {
      "text/plain": [
       "[1580.4, 1132.66, 3618.5, 5616.63, 6162.45]"
      ]
     },
     "execution_count": 14,
     "metadata": {},
     "output_type": "execute_result"
    }
   ],
   "source": [
    "median_balance = []\n",
    "for id_ in unique_id:\n",
    "    array = df.loc[df['customer_id'] == id_, \"balance\"]\n",
    "    median_balance.append(array.median())\n",
    "median_balance[:5]"
   ]
  },
  {
   "cell_type": "markdown",
   "id": "4711a429",
   "metadata": {},
   "source": [
    "### 2.2.7 State of residence"
   ]
  },
  {
   "cell_type": "code",
   "execution_count": 15,
   "id": "13904f30",
   "metadata": {},
   "outputs": [
    {
     "data": {
      "text/plain": [
       "['QLD', 'NSW', 'QLD', 'NSW', 'VIC']"
      ]
     },
     "execution_count": 15,
     "metadata": {},
     "output_type": "execute_result"
    }
   ],
   "source": [
    "# Assume customers live in the state where most of their transactions occured\n",
    "state = []\n",
    "for id_ in unique_id:\n",
    "    array = df.loc[df['customer_id']  == id_, \"merchant_state\"]\n",
    "    state.append(mode(array))\n",
    "state[:5]"
   ]
  },
  {
   "cell_type": "markdown",
   "id": "935b84a3",
   "metadata": {},
   "source": [
    "### 2.2.8 Include age and gender from original dataframe"
   ]
  },
  {
   "cell_type": "code",
   "execution_count": 16,
   "id": "0c68b55b",
   "metadata": {},
   "outputs": [
    {
     "data": {
      "text/plain": [
       "[26, 38, 40, 20, 43]"
      ]
     },
     "execution_count": 16,
     "metadata": {},
     "output_type": "execute_result"
    }
   ],
   "source": [
    "age = []\n",
    "for id_ in unique_id:\n",
    "    array = df.loc[df['customer_id'] == id_, \"age\"]\n",
    "    age.append(mode(array))\n",
    "age[:5]"
   ]
  },
  {
   "cell_type": "code",
   "execution_count": 17,
   "id": "c65d3011",
   "metadata": {},
   "outputs": [
    {
     "data": {
      "text/plain": [
       "['F', 'M', 'F', 'M', 'F']"
      ]
     },
     "execution_count": 17,
     "metadata": {},
     "output_type": "execute_result"
    }
   ],
   "source": [
    "gender = []\n",
    "for id_ in unique_id:\n",
    "    array = df.loc[df['customer_id'] == id_, \"gender\"]\n",
    "    gender.append(mode(array))\n",
    "gender[:5]"
   ]
  },
  {
   "cell_type": "markdown",
   "id": "4883a041",
   "metadata": {},
   "source": [
    "### 2.2.9 Putting everything together\n",
    "Here, we will put together all the features that we have created into a dataframe called features_df and subsequently concatenate the annual salary for each customer to form a final dataframe called df."
   ]
  },
  {
   "cell_type": "code",
   "execution_count": 18,
   "id": "c43f64ce",
   "metadata": {},
   "outputs": [
    {
     "data": {
      "text/html": [
       "<div>\n",
       "<style scoped>\n",
       "    .dataframe tbody tr th:only-of-type {\n",
       "        vertical-align: middle;\n",
       "    }\n",
       "\n",
       "    .dataframe tbody tr th {\n",
       "        vertical-align: top;\n",
       "    }\n",
       "\n",
       "    .dataframe thead th {\n",
       "        text-align: right;\n",
       "    }\n",
       "</style>\n",
       "<table border=\"1\" class=\"dataframe\">\n",
       "  <thead>\n",
       "    <tr style=\"text-align: right;\">\n",
       "      <th></th>\n",
       "      <th>customer_id</th>\n",
       "      <th>avg_no_weekly_trans</th>\n",
       "      <th>max_amount</th>\n",
       "      <th>no_large_trans</th>\n",
       "      <th>avg_trans_amount</th>\n",
       "      <th>median_balance</th>\n",
       "      <th>state</th>\n",
       "      <th>age</th>\n",
       "      <th>gender</th>\n",
       "    </tr>\n",
       "  </thead>\n",
       "  <tbody>\n",
       "    <tr>\n",
       "      <th>0</th>\n",
       "      <td>CUS-2487424745</td>\n",
       "      <td>48</td>\n",
       "      <td>1452.21</td>\n",
       "      <td>22</td>\n",
       "      <td>45.348772</td>\n",
       "      <td>1580.40</td>\n",
       "      <td>QLD</td>\n",
       "      <td>26</td>\n",
       "      <td>F</td>\n",
       "    </tr>\n",
       "    <tr>\n",
       "      <th>1</th>\n",
       "      <td>CUS-2142601169</td>\n",
       "      <td>29</td>\n",
       "      <td>2349.55</td>\n",
       "      <td>23</td>\n",
       "      <td>78.206106</td>\n",
       "      <td>1132.66</td>\n",
       "      <td>NSW</td>\n",
       "      <td>38</td>\n",
       "      <td>M</td>\n",
       "    </tr>\n",
       "    <tr>\n",
       "      <th>2</th>\n",
       "      <td>CUS-1614226872</td>\n",
       "      <td>24</td>\n",
       "      <td>892.09</td>\n",
       "      <td>22</td>\n",
       "      <td>74.465019</td>\n",
       "      <td>3618.50</td>\n",
       "      <td>QLD</td>\n",
       "      <td>40</td>\n",
       "      <td>F</td>\n",
       "    </tr>\n",
       "    <tr>\n",
       "      <th>3</th>\n",
       "      <td>CUS-2688605418</td>\n",
       "      <td>14</td>\n",
       "      <td>2320.30</td>\n",
       "      <td>25</td>\n",
       "      <td>159.304186</td>\n",
       "      <td>5616.63</td>\n",
       "      <td>NSW</td>\n",
       "      <td>20</td>\n",
       "      <td>M</td>\n",
       "    </tr>\n",
       "    <tr>\n",
       "      <th>4</th>\n",
       "      <td>CUS-4123612273</td>\n",
       "      <td>21</td>\n",
       "      <td>1068.04</td>\n",
       "      <td>32</td>\n",
       "      <td>166.508358</td>\n",
       "      <td>6162.45</td>\n",
       "      <td>VIC</td>\n",
       "      <td>43</td>\n",
       "      <td>F</td>\n",
       "    </tr>\n",
       "  </tbody>\n",
       "</table>\n",
       "</div>"
      ],
      "text/plain": [
       "      customer_id  avg_no_weekly_trans  max_amount  no_large_trans  \\\n",
       "0  CUS-2487424745                   48     1452.21              22   \n",
       "1  CUS-2142601169                   29     2349.55              23   \n",
       "2  CUS-1614226872                   24      892.09              22   \n",
       "3  CUS-2688605418                   14     2320.30              25   \n",
       "4  CUS-4123612273                   21     1068.04              32   \n",
       "\n",
       "   avg_trans_amount  median_balance state  age gender  \n",
       "0         45.348772         1580.40   QLD   26      F  \n",
       "1         78.206106         1132.66   NSW   38      M  \n",
       "2         74.465019         3618.50   QLD   40      F  \n",
       "3        159.304186         5616.63   NSW   20      M  \n",
       "4        166.508358         6162.45   VIC   43      F  "
      ]
     },
     "execution_count": 18,
     "metadata": {},
     "output_type": "execute_result"
    }
   ],
   "source": [
    "# Predictor variables \n",
    "features_df = pd.DataFrame({\"customer_id\": unique_id, \n",
    "                            \"avg_no_weekly_trans\": avg_no_weekly_trans, \n",
    "                            \"max_amount\": max_amount, \n",
    "                            \"no_large_trans\": no_large_trans,\n",
    "                            \"avg_trans_amount\": avg_trans_amount,\n",
    "                            \"median_balance\": median_balance, \n",
    "                            \"state\": state,\n",
    "                            \"age\": age,\n",
    "                            \"gender\": gender})\n",
    "features_df.head()"
   ]
  },
  {
   "cell_type": "code",
   "execution_count": 19,
   "id": "529bffa6",
   "metadata": {},
   "outputs": [
    {
     "data": {
      "text/html": [
       "<div>\n",
       "<style scoped>\n",
       "    .dataframe tbody tr th:only-of-type {\n",
       "        vertical-align: middle;\n",
       "    }\n",
       "\n",
       "    .dataframe tbody tr th {\n",
       "        vertical-align: top;\n",
       "    }\n",
       "\n",
       "    .dataframe thead th {\n",
       "        text-align: right;\n",
       "    }\n",
       "</style>\n",
       "<table border=\"1\" class=\"dataframe\">\n",
       "  <thead>\n",
       "    <tr style=\"text-align: right;\">\n",
       "      <th></th>\n",
       "      <th>customer_id</th>\n",
       "      <th>salary_freq</th>\n",
       "      <th>salary_amount</th>\n",
       "      <th>annual_salary</th>\n",
       "    </tr>\n",
       "  </thead>\n",
       "  <tbody>\n",
       "    <tr>\n",
       "      <th>0</th>\n",
       "      <td>CUS-2487424745</td>\n",
       "      <td>7</td>\n",
       "      <td>1013.67</td>\n",
       "      <td>52891.852500</td>\n",
       "    </tr>\n",
       "    <tr>\n",
       "      <th>1</th>\n",
       "      <td>CUS-2142601169</td>\n",
       "      <td>7</td>\n",
       "      <td>1002.13</td>\n",
       "      <td>52289.711786</td>\n",
       "    </tr>\n",
       "    <tr>\n",
       "      <th>2</th>\n",
       "      <td>CUS-1614226872</td>\n",
       "      <td>7</td>\n",
       "      <td>892.09</td>\n",
       "      <td>46547.981786</td>\n",
       "    </tr>\n",
       "    <tr>\n",
       "      <th>3</th>\n",
       "      <td>CUS-2688605418</td>\n",
       "      <td>14</td>\n",
       "      <td>2320.30</td>\n",
       "      <td>60534.969643</td>\n",
       "    </tr>\n",
       "    <tr>\n",
       "      <th>4</th>\n",
       "      <td>CUS-4123612273</td>\n",
       "      <td>7</td>\n",
       "      <td>1068.04</td>\n",
       "      <td>55728.801429</td>\n",
       "    </tr>\n",
       "  </tbody>\n",
       "</table>\n",
       "</div>"
      ],
      "text/plain": [
       "      customer_id  salary_freq  salary_amount  annual_salary\n",
       "0  CUS-2487424745            7        1013.67   52891.852500\n",
       "1  CUS-2142601169            7        1002.13   52289.711786\n",
       "2  CUS-1614226872            7         892.09   46547.981786\n",
       "3  CUS-2688605418           14        2320.30   60534.969643\n",
       "4  CUS-4123612273            7        1068.04   55728.801429"
      ]
     },
     "execution_count": 19,
     "metadata": {},
     "output_type": "execute_result"
    }
   ],
   "source": [
    "# Target variable \n",
    "salary_df.head()"
   ]
  },
  {
   "cell_type": "code",
   "execution_count": 20,
   "id": "5b12314d",
   "metadata": {},
   "outputs": [
    {
     "data": {
      "text/html": [
       "<div>\n",
       "<style scoped>\n",
       "    .dataframe tbody tr th:only-of-type {\n",
       "        vertical-align: middle;\n",
       "    }\n",
       "\n",
       "    .dataframe tbody tr th {\n",
       "        vertical-align: top;\n",
       "    }\n",
       "\n",
       "    .dataframe thead th {\n",
       "        text-align: right;\n",
       "    }\n",
       "</style>\n",
       "<table border=\"1\" class=\"dataframe\">\n",
       "  <thead>\n",
       "    <tr style=\"text-align: right;\">\n",
       "      <th></th>\n",
       "      <th>customer_id</th>\n",
       "      <th>avg_no_weekly_trans</th>\n",
       "      <th>max_amount</th>\n",
       "      <th>no_large_trans</th>\n",
       "      <th>avg_trans_amount</th>\n",
       "      <th>median_balance</th>\n",
       "      <th>state</th>\n",
       "      <th>age</th>\n",
       "      <th>gender</th>\n",
       "      <th>annual_salary</th>\n",
       "    </tr>\n",
       "  </thead>\n",
       "  <tbody>\n",
       "    <tr>\n",
       "      <th>0</th>\n",
       "      <td>CUS-2487424745</td>\n",
       "      <td>48</td>\n",
       "      <td>1452.21</td>\n",
       "      <td>22</td>\n",
       "      <td>45.348772</td>\n",
       "      <td>1580.40</td>\n",
       "      <td>QLD</td>\n",
       "      <td>26</td>\n",
       "      <td>F</td>\n",
       "      <td>52891.852500</td>\n",
       "    </tr>\n",
       "    <tr>\n",
       "      <th>1</th>\n",
       "      <td>CUS-2142601169</td>\n",
       "      <td>29</td>\n",
       "      <td>2349.55</td>\n",
       "      <td>23</td>\n",
       "      <td>78.206106</td>\n",
       "      <td>1132.66</td>\n",
       "      <td>NSW</td>\n",
       "      <td>38</td>\n",
       "      <td>M</td>\n",
       "      <td>52289.711786</td>\n",
       "    </tr>\n",
       "    <tr>\n",
       "      <th>2</th>\n",
       "      <td>CUS-1614226872</td>\n",
       "      <td>24</td>\n",
       "      <td>892.09</td>\n",
       "      <td>22</td>\n",
       "      <td>74.465019</td>\n",
       "      <td>3618.50</td>\n",
       "      <td>QLD</td>\n",
       "      <td>40</td>\n",
       "      <td>F</td>\n",
       "      <td>46547.981786</td>\n",
       "    </tr>\n",
       "    <tr>\n",
       "      <th>3</th>\n",
       "      <td>CUS-2688605418</td>\n",
       "      <td>14</td>\n",
       "      <td>2320.30</td>\n",
       "      <td>25</td>\n",
       "      <td>159.304186</td>\n",
       "      <td>5616.63</td>\n",
       "      <td>NSW</td>\n",
       "      <td>20</td>\n",
       "      <td>M</td>\n",
       "      <td>60534.969643</td>\n",
       "    </tr>\n",
       "    <tr>\n",
       "      <th>4</th>\n",
       "      <td>CUS-4123612273</td>\n",
       "      <td>21</td>\n",
       "      <td>1068.04</td>\n",
       "      <td>32</td>\n",
       "      <td>166.508358</td>\n",
       "      <td>6162.45</td>\n",
       "      <td>VIC</td>\n",
       "      <td>43</td>\n",
       "      <td>F</td>\n",
       "      <td>55728.801429</td>\n",
       "    </tr>\n",
       "  </tbody>\n",
       "</table>\n",
       "</div>"
      ],
      "text/plain": [
       "      customer_id  avg_no_weekly_trans  max_amount  no_large_trans  \\\n",
       "0  CUS-2487424745                   48     1452.21              22   \n",
       "1  CUS-2142601169                   29     2349.55              23   \n",
       "2  CUS-1614226872                   24      892.09              22   \n",
       "3  CUS-2688605418                   14     2320.30              25   \n",
       "4  CUS-4123612273                   21     1068.04              32   \n",
       "\n",
       "   avg_trans_amount  median_balance state  age gender  annual_salary  \n",
       "0         45.348772         1580.40   QLD   26      F   52891.852500  \n",
       "1         78.206106         1132.66   NSW   38      M   52289.711786  \n",
       "2         74.465019         3618.50   QLD   40      F   46547.981786  \n",
       "3        159.304186         5616.63   NSW   20      M   60534.969643  \n",
       "4        166.508358         6162.45   VIC   43      F   55728.801429  "
      ]
     },
     "execution_count": 20,
     "metadata": {},
     "output_type": "execute_result"
    }
   ],
   "source": [
    "# Concat annual salary column to features dataframe  \n",
    "df = pd.concat([features_df, salary_df.annual_salary], axis = 1)\n",
    "df.head()"
   ]
  },
  {
   "cell_type": "code",
   "execution_count": 21,
   "id": "dadfe890",
   "metadata": {},
   "outputs": [
    {
     "data": {
      "text/plain": [
       "customer_id            0\n",
       "avg_no_weekly_trans    0\n",
       "max_amount             0\n",
       "no_large_trans         0\n",
       "avg_trans_amount       0\n",
       "median_balance         0\n",
       "state                  0\n",
       "age                    0\n",
       "gender                 0\n",
       "annual_salary          0\n",
       "dtype: int64"
      ]
     },
     "execution_count": 21,
     "metadata": {},
     "output_type": "execute_result"
    }
   ],
   "source": [
    "# Check for missing values \n",
    "df.isnull().sum()\n"
   ]
  },
  {
   "cell_type": "markdown",
   "id": "86560e89",
   "metadata": {},
   "source": [
    "## 3. Preprocessing\n",
    "In this section, we will perform train and test split on our final dataframe as well as construct a column transformer which consists of one-hot-encoder and standard scaler.\n",
    "\n",
    "### 3.1 Train test split\n",
    "Here, we will split 70% of the dataframe into training set, which is used to train our model and 30% of the dataframe into test set, which is used to assess model predictions."
   ]
  },
  {
   "cell_type": "code",
   "execution_count": 22,
   "id": "2055c5ac",
   "metadata": {},
   "outputs": [
    {
     "name": "stdout",
     "output_type": "stream",
     "text": [
      "X shape:  (100, 8)\n",
      "Y shape:  (100,)\n"
     ]
    }
   ],
   "source": [
    "X = df.drop([\"customer_id\", \"annual_salary\"], axis = 1)\n",
    "Y = df['annual_salary']\n",
    "print(\"X shape: \", X.shape)\n",
    "print(\"Y shape: \", Y.shape)"
   ]
  },
  {
   "cell_type": "code",
   "execution_count": 23,
   "id": "70fdd4cf",
   "metadata": {},
   "outputs": [
    {
     "name": "stdout",
     "output_type": "stream",
     "text": [
      "X_train shape:  (70, 8)\n",
      "Y_train shape:  (70,)\n",
      "X_test shape:  (30, 8)\n",
      "Y_test shape:  (30,)\n"
     ]
    }
   ],
   "source": [
    "X_train, X_test, Y_train, Y_test = train_test_split(X, Y, test_size = 0.3, random_state = 42)\n",
    "\n",
    "print(\"X_train shape: \", X_train.shape)\n",
    "print(\"Y_train shape: \", Y_train.shape)\n",
    "print(\"X_test shape: \", X_test.shape)\n",
    "print(\"Y_test shape: \", Y_test.shape)"
   ]
  },
  {
   "cell_type": "markdown",
   "id": "0570388d",
   "metadata": {},
   "source": [
    "### 3.2 Column transformer with one-hot encoder and standard scaler\n",
    "Models cannot train on variables that contain text, therefore we need to encode both the state and gender columns using one-hot encoder. Furthermore, to ensure that each feature contributes proportionally to the final prediction, we need to scale all the numerical variables using standard scaler.\n",
    "\n",
    "We will include both the one-hot encoder and the standard scaler into a single column transformer."
   ]
  },
  {
   "cell_type": "code",
   "execution_count": 24,
   "id": "2d4489e1",
   "metadata": {},
   "outputs": [],
   "source": [
    "# Create column transformer \n",
    "ohe = OneHotEncoder(sparse = False)\n",
    "scaler = StandardScaler()\n",
    "column_transform = make_column_transformer((ohe, [\"state\", \"gender\"]), (scaler, [\"avg_no_weekly_trans\", \"max_amount\", \"no_large_trans\", \"avg_trans_amount\", \"median_balance\", \"age\"]))"
   ]
  },
  {
   "cell_type": "markdown",
   "id": "282a21a3",
   "metadata": {},
   "source": [
    "## 4. Predict customers' annual salary\n",
    "Now that our column transformer is ready, we can build a pipeline using the column transformer and a machine learning model to predict customers' annual salary.\n",
    "\n",
    "Here, we will try two models:\n",
    "\n",
    "* Linear regression\n",
    "* Decision tree regressor\n",
    "\n",
    "### 4.1 Linear regression"
   ]
  },
  {
   "cell_type": "code",
   "execution_count": 25,
   "id": "f1d6ee1c",
   "metadata": {},
   "outputs": [],
   "source": [
    "\n",
    "# Instantiate model and pipeline\n",
    "lm = LinearRegression()\n",
    "lm_pipeline = make_pipeline(column_transform, lm)"
   ]
  },
  {
   "cell_type": "code",
   "execution_count": 26,
   "id": "7bc650e1",
   "metadata": {},
   "outputs": [],
   "source": [
    "# Fit pipeline and make predictions \n",
    "lm_pipeline.fit(X_train, Y_train)\n",
    "lm_pred = lm_pipeline.predict(X_test)"
   ]
  },
  {
   "cell_type": "code",
   "execution_count": 27,
   "id": "a8a3e95f",
   "metadata": {},
   "outputs": [
    {
     "name": "stdout",
     "output_type": "stream",
     "text": [
      "RMSE:  27836\n"
     ]
    }
   ],
   "source": [
    "# RMSE\n",
    "print(\"RMSE: \", round(np.sqrt(mean_squared_error(lm_pred, Y_test))))"
   ]
  },
  {
   "cell_type": "markdown",
   "id": "33dd34cf",
   "metadata": {},
   "source": [
    "### 4.2 Decision tree"
   ]
  },
  {
   "cell_type": "code",
   "execution_count": 28,
   "id": "777f8fd9",
   "metadata": {},
   "outputs": [],
   "source": [
    "# Instantiate model and pipeline \n",
    "tree = DecisionTreeRegressor()\n",
    "tree_pipeline = make_pipeline(column_transform, tree)"
   ]
  },
  {
   "cell_type": "code",
   "execution_count": 29,
   "id": "5605ad32",
   "metadata": {},
   "outputs": [],
   "source": [
    "# Fit pipeline and make predictions \n",
    "tree_pipeline.fit(X_train, Y_train)\n",
    "tree_pred = tree_pipeline.predict(X_test)\n"
   ]
  },
  {
   "cell_type": "code",
   "execution_count": 30,
   "id": "e1e74d95",
   "metadata": {},
   "outputs": [
    {
     "name": "stdout",
     "output_type": "stream",
     "text": [
      "RMSE:  21230\n"
     ]
    }
   ],
   "source": [
    "# RMSE \n",
    "print(\"RMSE: \", round(np.sqrt(mean_squared_error(tree_pred, Y_test))))"
   ]
  },
  {
   "cell_type": "markdown",
   "id": "0b92f591",
   "metadata": {},
   "source": [
    "## 5. Conclusion\n",
    "The RMSE for both models are over $20,000 and although decision tree performed better than linear regression by having a smaller RMSE, both models still appear to be highly inaccurate. Therefore, it is risky to use them to predict customers' income bracket. More data is required to develop a more reliable model.\n",
    "\n",
    "Nevertheless, one can invest more time into coming up with more features and selecting the best ones using backward elimination by optimising for a specific metric like AIC, however I doubt the result will be materially different as we only have a very limited amount of data (100 salaries) available."
   ]
  }
 ],
 "metadata": {
  "kernelspec": {
   "display_name": "Python 3",
   "language": "python",
   "name": "python3"
  },
  "language_info": {
   "codemirror_mode": {
    "name": "ipython",
    "version": 3
   },
   "file_extension": ".py",
   "mimetype": "text/x-python",
   "name": "python",
   "nbconvert_exporter": "python",
   "pygments_lexer": "ipython3",
   "version": "3.8.8"
  }
 },
 "nbformat": 4,
 "nbformat_minor": 5
}
